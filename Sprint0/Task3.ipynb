{
 "cells": [
  {
   "cell_type": "markdown",
   "metadata": {},
   "source": [
    "<h1 style=\"color:DodgerBlue\">Индивидальный проект</h1>"
   ]
  },
  {
   "cell_type": "markdown",
   "metadata": {},
   "source": [
    "<h2 style=\"color:DodgerBlue\">Название проекта:</h2>\n",
    "\n",
    "----\n",
    "\n",
    "### Вариант задания 4 \n"
   ]
  },
  {
   "cell_type": "markdown",
   "metadata": {},
   "source": [
    "<h2 style=\"color:DodgerBlue\">Описание проекта:</h2>\n",
    "\n",
    "----\n",
    "\n",
    "Описание задачи:\n",
    "Создать базовый класс Product в C#, который будет представлять информацию о\n",
    "продуктах. На основе этого класса разработать 2-3 производных класса,\n",
    "демонстрирующих принципы наследования и полиморфизма. В каждом из классов\n",
    "должны быть реализованы новые атрибуты и методы, а также переопределены\n",
    "некоторые методы базового класса для демонстрации полиморфизма.\n",
    "Требования к базовому классу Product:\n",
    "• Атрибуты: Название (Name), Цена (Price), Производитель (Manufacturer).\n",
    "• Методы:\n",
    "o GetInfo(): метод для получения информации о продукте в виде строки.\n",
    "o Discount(): метод для применения скидки к цене продукта.\n",
    "o Display(): метод для отображения информации о продукте на экране.\n",
    "Требования к производным классам:\n",
    "1. Электроника (Electronics): Должен содержать дополнительные атрибуты,\n",
    "такие как Гарантийный срок (WarrantyPeriod). Метод Discount() должен быть\n",
    "переопределен для добавления логики учета гарантийного срока при\n",
    "применении скидки.\n",
    "2. Одежда (Clothing): Должен содержать дополнительные атрибуты, такие как\n",
    "Размер (Size). Метод Display() должен быть переопределен для добавления\n",
    "информации о размере при отображении информации о продукте.\n",
    "3. Книги (Books) (если требуется третий класс): Должен содержать\n",
    "дополнительные атрибуты, такие как Автор (Author). Метод GetInfo() должен\n",
    "быть переопределен для включения информации об авторе в описании\n",
    "продукта."
   ]
  },
  {
   "cell_type": "markdown",
   "metadata": {},
   "source": [
    "<h2 style=\"color:DodgerBlue\">Реализация:</h2>\n",
    "\n",
    "----"
   ]
  },
  {
   "cell_type": "code",
   "execution_count": 2,
   "metadata": {
    "dotnet_interactive": {
     "language": "csharp"
    },
    "polyglot_notebook": {
     "kernelName": "csharp"
    }
   },
   "outputs": [
    {
     "name": "stdout",
     "output_type": "stream",
     "text": [
      "Название: Сыр твёрдый Ламбер, Цена (в рублях): 400, Производитель: АО 'Вимм-Билль-Данн'\n",
      "На Сыр твёрдый Ламбер действует скидка 15%.\n",
      "Информация о Сыр твёрдый Ламбер выведена на экран.\n",
      "\n",
      "Название: Монитор Xiaomi Redmi G34WQ, Цена (в рублях): 30000, Производитель: Xiaomi\n",
      "Гарантийный срок на Монитор Xiaomi Redmi G34WQ, составляет 48 месяцев.\n",
      "\n",
      "Название: Футболка, Цена (в рублях): 650, Производитель: Sima-land\n",
      "Футболка, имеет 50 размер.\n",
      "\n",
      "Название: Halo: Падение Предела, Цена (в рублях): 500, Автор: Эрик Ниланд\n"
     ]
    }
   ],
   "source": [
    "public class Product\n",
    "{\n",
    "    public string Name;\n",
    "    public int Price;\n",
    "    public string Manufacturer;\n",
    "    public virtual string GetInfo()\n",
    "    {\n",
    "        return $\"Название: {Name}, Цена (в рублях): {Price}, Производитель: {Manufacturer}\";\n",
    "    }\n",
    "    public virtual void Discount()\n",
    "    {\n",
    "        Console.WriteLine($\"На {Name} действует скидка 15%.\");\n",
    "    }\n",
    "    public virtual void Display()\n",
    "    {\n",
    "        Console.WriteLine($\"Информация о {Name} выведена на экран.\");\n",
    "    }\n",
    "}\n",
    "public class Electronics: Product\n",
    "{\n",
    "    public string WarrantyPeriod;\n",
    "    public override void Discount()\n",
    "    {\n",
    "        Console.WriteLine($\"Гарантийный срок на {Name}, составляет {WarrantyPeriod}.\");\n",
    "    }\n",
    "}\n",
    "public class Clothing: Product\n",
    "{\n",
    "    public int Size;\n",
    "    public override void Display()\n",
    "    {\n",
    "        Console.WriteLine($\"{Name}, имеет {Size} размер.\");\n",
    "    }\n",
    "}\n",
    "public class Books: Product\n",
    "{\n",
    "    public string Author;\n",
    "    public override string GetInfo()\n",
    "    {\n",
    "        return $\"Название: {Name}, Цена (в рублях): {Price}, Автор: {Author}\";\n",
    "    }\n",
    "}\n",
    "\n",
    "Product Cheese = new Product();\n",
    "Cheese.Name = \"Сыр твёрдый Ламбер\";\n",
    "Cheese.Price = 400;\n",
    "Cheese.Manufacturer = \"АО 'Вимм-Билль-Данн'\";\n",
    "Console.WriteLine(Cheese.GetInfo());\n",
    "Cheese.Discount();\n",
    "Cheese.Display();\n",
    "\n",
    "Console.WriteLine(\"\");\n",
    "\n",
    "Electronics Monitor = new Electronics();\n",
    "Monitor.Name = \"Монитор Xiaomi Redmi G34WQ\";\n",
    "Monitor.Price = 30000;\n",
    "Monitor.Manufacturer = \"Xiaomi\";\n",
    "Monitor.WarrantyPeriod = \"48 месяцев\";\n",
    "Console.WriteLine(Monitor.GetInfo());\n",
    "Monitor.Discount();\n",
    "\n",
    "Console.WriteLine(\"\");\n",
    "\n",
    "Clothing Tshirt = new Clothing();\n",
    "Tshirt.Name = \"Футболка\";\n",
    "Tshirt.Price = 650;\n",
    "Tshirt.Manufacturer = \"Sima-land\";\n",
    "Tshirt.Size = 50;\n",
    "Console.WriteLine(Tshirt.GetInfo());\n",
    "Tshirt.Display();\n",
    "\n",
    "Console.WriteLine(\"\");\n",
    "\n",
    "Books Book = new Books();\n",
    "Book.Name = \"Halo: Падение Предела\";\n",
    "Book.Price = 500;\n",
    "Book.Author = \"Эрик Ниланд\";\n",
    "Console.WriteLine(Book.GetInfo());"
   ]
  }
 ],
 "metadata": {
  "kernelspec": {
   "display_name": ".NET (C#)",
   "language": "C#",
   "name": ".net-csharp"
  },
  "polyglot_notebook": {
   "kernelInfo": {
    "defaultKernelName": "csharp",
    "items": [
     {
      "aliases": [],
      "languageName": "csharp",
      "name": "csharp"
     }
    ]
   }
  }
 },
 "nbformat": 4,
 "nbformat_minor": 2
}
